{
 "cells": [
  {
   "cell_type": "code",
   "execution_count": 1,
   "id": "f0666b6d",
   "metadata": {},
   "outputs": [
    {
     "name": "stderr",
     "output_type": "stream",
     "text": [
      "/Users/komangwikananda/miniconda3/envs/imageclassification/lib/python3.13/site-packages/tqdm/auto.py:21: TqdmWarning: IProgress not found. Please update jupyter and ipywidgets. See https://ipywidgets.readthedocs.io/en/stable/user_install.html\n",
      "  from .autonotebook import tqdm as notebook_tqdm\n"
     ]
    }
   ],
   "source": [
    "from utils.datamodule import DataModule\n",
    "import yaml\n",
    "from utils.engine import train, test, predict_single_img, _save_train_plot\n",
    "import seaborn as sns\n",
    "import matplotlib.pyplot as plt\n",
    "import numpy as np\n",
    "from PIL import ImageFile\n",
    "ImageFile.LOAD_TRUNCATED_IMAGES = True"
   ]
  },
  {
   "cell_type": "code",
   "execution_count": null,
   "id": "a48b930b",
   "metadata": {},
   "outputs": [
    {
     "name": "stdout",
     "output_type": "stream",
     "text": [
      "Detected 3 classes: ['real', '.gitkeep', 'fake']\n",
      "Splitting dataset with ratio Train: 0.7, Val: 0.15, Test: 0.15\n",
      "Class 'real': Total=6000, Train=4200, Val=900, Test=900\n"
     ]
    },
    {
     "name": "stderr",
     "output_type": "stream",
     "text": [
      "/Users/komangwikananda/miniconda3/envs/imageclassification/lib/python3.13/site-packages/PIL/Image.py:3452: DecompressionBombWarning: Image size (143040000 pixels) exceeds limit of 89478485 pixels, could be decompression bomb DOS attack.\n",
      "  warnings.warn(\n",
      "/Users/komangwikananda/miniconda3/envs/imageclassification/lib/python3.13/site-packages/PIL/Image.py:3452: DecompressionBombWarning: Image size (121554000 pixels) exceeds limit of 89478485 pixels, could be decompression bomb DOS attack.\n",
      "  warnings.warn(\n"
     ]
    },
    {
     "name": "stdout",
     "output_type": "stream",
     "text": [
      "Class 'fake': Total=6000, Train=4200, Val=900, Test=900\n"
     ]
    }
   ],
   "source": [
    "with open(\"dataset.yaml\", 'r') as f:\n",
    "    dataset_cfg = yaml.safe_load(f)\n",
    "\n",
    "with open(\"train.yaml\", 'r') as f:\n",
    "    train_cfg = yaml.safe_load(f)\n",
    "\n",
    "\n",
    "dm = DataModule(dataset_cfg)\n",
    "dm.setup(processed=True, skip_large=True)"
   ]
  },
  {
   "cell_type": "code",
   "execution_count": 4,
   "id": "b3343ac6",
   "metadata": {},
   "outputs": [
    {
     "name": "stdout",
     "output_type": "stream",
     "text": [
      "Using device: mps\n",
      "Using model swiftformer_xs.dist_in1k with params: 3147538\n"
     ]
    },
    {
     "name": "stderr",
     "output_type": "stream",
     "text": [
      "Training Epochs:   0%|          | 0/20 [00:00<?, ?it/s]/Users/komangwikananda/miniconda3/envs/imageclassification/lib/python3.13/site-packages/PIL/Image.py:1047: UserWarning: Palette images with Transparency expressed in bytes should be converted to RGBA images\n",
      "  warnings.warn(\n",
      "/Users/komangwikananda/miniconda3/envs/imageclassification/lib/python3.13/site-packages/PIL/Image.py:1047: UserWarning: Palette images with Transparency expressed in bytes should be converted to RGBA images\n",
      "  warnings.warn(\n",
      "Training Epochs:   5%|▌         | 1/20 [05:08<1:37:43, 308.62s/it]"
     ]
    },
    {
     "name": "stdout",
     "output_type": "stream",
     "text": [
      "Epoch [1/20] | Train Loss: 0.6633 | Val Loss: 0.6035 | Train Accuracy: 0.6074 | Val Accuracy: 0.7056\n"
     ]
    },
    {
     "name": "stderr",
     "output_type": "stream",
     "text": [
      "/Users/komangwikananda/miniconda3/envs/imageclassification/lib/python3.13/site-packages/PIL/Image.py:1047: UserWarning: Palette images with Transparency expressed in bytes should be converted to RGBA images\n",
      "  warnings.warn(\n",
      "/Users/komangwikananda/miniconda3/envs/imageclassification/lib/python3.13/site-packages/PIL/Image.py:1047: UserWarning: Palette images with Transparency expressed in bytes should be converted to RGBA images\n",
      "  warnings.warn(\n",
      "Training Epochs:  10%|█         | 2/20 [10:12<1:31:44, 305.83s/it]"
     ]
    },
    {
     "name": "stdout",
     "output_type": "stream",
     "text": [
      "Epoch [2/20] | Train Loss: 0.5759 | Val Loss: 0.5483 | Train Accuracy: 0.7011 | Val Accuracy: 0.7418\n"
     ]
    },
    {
     "name": "stderr",
     "output_type": "stream",
     "text": [
      "/Users/komangwikananda/miniconda3/envs/imageclassification/lib/python3.13/site-packages/PIL/Image.py:1047: UserWarning: Palette images with Transparency expressed in bytes should be converted to RGBA images\n",
      "  warnings.warn(\n",
      "/Users/komangwikananda/miniconda3/envs/imageclassification/lib/python3.13/site-packages/PIL/Image.py:1047: UserWarning: Palette images with Transparency expressed in bytes should be converted to RGBA images\n",
      "  warnings.warn(\n",
      "Training Epochs:  15%|█▌        | 3/20 [15:18<1:26:37, 305.76s/it]"
     ]
    },
    {
     "name": "stdout",
     "output_type": "stream",
     "text": [
      "Epoch [3/20] | Train Loss: 0.5398 | Val Loss: 0.5240 | Train Accuracy: 0.7263 | Val Accuracy: 0.7507\n"
     ]
    },
    {
     "name": "stderr",
     "output_type": "stream",
     "text": [
      "/Users/komangwikananda/miniconda3/envs/imageclassification/lib/python3.13/site-packages/PIL/Image.py:1047: UserWarning: Palette images with Transparency expressed in bytes should be converted to RGBA images\n",
      "  warnings.warn(\n",
      "/Users/komangwikananda/miniconda3/envs/imageclassification/lib/python3.13/site-packages/PIL/Image.py:1047: UserWarning: Palette images with Transparency expressed in bytes should be converted to RGBA images\n",
      "  warnings.warn(\n",
      "Training Epochs:  20%|██        | 4/20 [20:32<1:22:26, 309.18s/it]"
     ]
    },
    {
     "name": "stdout",
     "output_type": "stream",
     "text": [
      "Epoch [4/20] | Train Loss: 0.5292 | Val Loss: 0.5148 | Train Accuracy: 0.7314 | Val Accuracy: 0.7568\n"
     ]
    },
    {
     "name": "stderr",
     "output_type": "stream",
     "text": [
      "/Users/komangwikananda/miniconda3/envs/imageclassification/lib/python3.13/site-packages/PIL/Image.py:1047: UserWarning: Palette images with Transparency expressed in bytes should be converted to RGBA images\n",
      "  warnings.warn(\n",
      "/Users/komangwikananda/miniconda3/envs/imageclassification/lib/python3.13/site-packages/PIL/Image.py:1047: UserWarning: Palette images with Transparency expressed in bytes should be converted to RGBA images\n",
      "  warnings.warn(\n",
      "Training Epochs:  25%|██▌       | 5/20 [25:41<1:17:17, 309.16s/it]"
     ]
    },
    {
     "name": "stdout",
     "output_type": "stream",
     "text": [
      "Epoch [5/20] | Train Loss: 0.5139 | Val Loss: 0.4975 | Train Accuracy: 0.7466 | Val Accuracy: 0.7613\n"
     ]
    },
    {
     "name": "stderr",
     "output_type": "stream",
     "text": [
      "/Users/komangwikananda/miniconda3/envs/imageclassification/lib/python3.13/site-packages/PIL/Image.py:1047: UserWarning: Palette images with Transparency expressed in bytes should be converted to RGBA images\n",
      "  warnings.warn(\n",
      "/Users/komangwikananda/miniconda3/envs/imageclassification/lib/python3.13/site-packages/PIL/Image.py:1047: UserWarning: Palette images with Transparency expressed in bytes should be converted to RGBA images\n",
      "  warnings.warn(\n",
      "Training Epochs:  30%|███       | 6/20 [30:52<1:12:15, 309.70s/it]"
     ]
    },
    {
     "name": "stdout",
     "output_type": "stream",
     "text": [
      "Epoch [6/20] | Train Loss: 0.5116 | Val Loss: 0.4918 | Train Accuracy: 0.7524 | Val Accuracy: 0.7635\n"
     ]
    },
    {
     "name": "stderr",
     "output_type": "stream",
     "text": [
      "/Users/komangwikananda/miniconda3/envs/imageclassification/lib/python3.13/site-packages/PIL/Image.py:1047: UserWarning: Palette images with Transparency expressed in bytes should be converted to RGBA images\n",
      "  warnings.warn(\n",
      "/Users/komangwikananda/miniconda3/envs/imageclassification/lib/python3.13/site-packages/PIL/Image.py:1047: UserWarning: Palette images with Transparency expressed in bytes should be converted to RGBA images\n",
      "  warnings.warn(\n",
      "Training Epochs:  35%|███▌      | 7/20 [36:01<1:07:05, 309.62s/it]"
     ]
    },
    {
     "name": "stdout",
     "output_type": "stream",
     "text": [
      "Epoch [7/20] | Train Loss: 0.5057 | Val Loss: 0.4839 | Train Accuracy: 0.7582 | Val Accuracy: 0.7635\n"
     ]
    },
    {
     "name": "stderr",
     "output_type": "stream",
     "text": [
      "/Users/komangwikananda/miniconda3/envs/imageclassification/lib/python3.13/site-packages/PIL/Image.py:1047: UserWarning: Palette images with Transparency expressed in bytes should be converted to RGBA images\n",
      "  warnings.warn(\n",
      "/Users/komangwikananda/miniconda3/envs/imageclassification/lib/python3.13/site-packages/PIL/Image.py:1047: UserWarning: Palette images with Transparency expressed in bytes should be converted to RGBA images\n",
      "  warnings.warn(\n",
      "Training Epochs:  40%|████      | 8/20 [41:02<1:01:21, 306.79s/it]"
     ]
    },
    {
     "name": "stdout",
     "output_type": "stream",
     "text": [
      "Epoch [8/20] | Train Loss: 0.4952 | Val Loss: 0.4775 | Train Accuracy: 0.7612 | Val Accuracy: 0.7679\n"
     ]
    },
    {
     "name": "stderr",
     "output_type": "stream",
     "text": [
      "/Users/komangwikananda/miniconda3/envs/imageclassification/lib/python3.13/site-packages/PIL/Image.py:1047: UserWarning: Palette images with Transparency expressed in bytes should be converted to RGBA images\n",
      "  warnings.warn(\n",
      "/Users/komangwikananda/miniconda3/envs/imageclassification/lib/python3.13/site-packages/PIL/Image.py:1047: UserWarning: Palette images with Transparency expressed in bytes should be converted to RGBA images\n",
      "  warnings.warn(\n",
      "Training Epochs:  45%|████▌     | 9/20 [46:02<55:49, 304.53s/it]  "
     ]
    },
    {
     "name": "stdout",
     "output_type": "stream",
     "text": [
      "Epoch [9/20] | Train Loss: 0.4938 | Val Loss: 0.4736 | Train Accuracy: 0.7666 | Val Accuracy: 0.7752\n"
     ]
    },
    {
     "name": "stderr",
     "output_type": "stream",
     "text": [
      "/Users/komangwikananda/miniconda3/envs/imageclassification/lib/python3.13/site-packages/PIL/Image.py:1047: UserWarning: Palette images with Transparency expressed in bytes should be converted to RGBA images\n",
      "  warnings.warn(\n",
      "/Users/komangwikananda/miniconda3/envs/imageclassification/lib/python3.13/site-packages/PIL/Image.py:1047: UserWarning: Palette images with Transparency expressed in bytes should be converted to RGBA images\n",
      "  warnings.warn(\n",
      "Training Epochs:  50%|█████     | 10/20 [51:03<50:33, 303.40s/it]"
     ]
    },
    {
     "name": "stdout",
     "output_type": "stream",
     "text": [
      "Epoch [10/20] | Train Loss: 0.4786 | Val Loss: 0.4635 | Train Accuracy: 0.7744 | Val Accuracy: 0.7718\n"
     ]
    },
    {
     "name": "stderr",
     "output_type": "stream",
     "text": [
      "/Users/komangwikananda/miniconda3/envs/imageclassification/lib/python3.13/site-packages/PIL/Image.py:1047: UserWarning: Palette images with Transparency expressed in bytes should be converted to RGBA images\n",
      "  warnings.warn(\n",
      "/Users/komangwikananda/miniconda3/envs/imageclassification/lib/python3.13/site-packages/PIL/Image.py:1047: UserWarning: Palette images with Transparency expressed in bytes should be converted to RGBA images\n",
      "  warnings.warn(\n",
      "Training Epochs:  55%|█████▌    | 11/20 [56:08<45:36, 304.08s/it]"
     ]
    },
    {
     "name": "stdout",
     "output_type": "stream",
     "text": [
      "Epoch [11/20] | Train Loss: 0.4865 | Val Loss: 0.4601 | Train Accuracy: 0.7646 | Val Accuracy: 0.7735\n"
     ]
    },
    {
     "name": "stderr",
     "output_type": "stream",
     "text": [
      "/Users/komangwikananda/miniconda3/envs/imageclassification/lib/python3.13/site-packages/PIL/Image.py:1047: UserWarning: Palette images with Transparency expressed in bytes should be converted to RGBA images\n",
      "  warnings.warn(\n",
      "/Users/komangwikananda/miniconda3/envs/imageclassification/lib/python3.13/site-packages/PIL/Image.py:1047: UserWarning: Palette images with Transparency expressed in bytes should be converted to RGBA images\n",
      "  warnings.warn(\n",
      "Training Epochs:  60%|██████    | 12/20 [1:01:21<40:52, 306.62s/it]"
     ]
    },
    {
     "name": "stdout",
     "output_type": "stream",
     "text": [
      "Epoch [12/20] | Train Loss: 0.4881 | Val Loss: 0.4576 | Train Accuracy: 0.7616 | Val Accuracy: 0.7763\n"
     ]
    },
    {
     "name": "stderr",
     "output_type": "stream",
     "text": [
      "/Users/komangwikananda/miniconda3/envs/imageclassification/lib/python3.13/site-packages/PIL/Image.py:1047: UserWarning: Palette images with Transparency expressed in bytes should be converted to RGBA images\n",
      "  warnings.warn(\n",
      "/Users/komangwikananda/miniconda3/envs/imageclassification/lib/python3.13/site-packages/PIL/Image.py:1047: UserWarning: Palette images with Transparency expressed in bytes should be converted to RGBA images\n",
      "  warnings.warn(\n",
      "Training Epochs:  65%|██████▌   | 13/20 [1:06:31<35:54, 307.73s/it]"
     ]
    },
    {
     "name": "stdout",
     "output_type": "stream",
     "text": [
      "Epoch [13/20] | Train Loss: 0.4750 | Val Loss: 0.4566 | Train Accuracy: 0.7710 | Val Accuracy: 0.7835\n"
     ]
    },
    {
     "name": "stderr",
     "output_type": "stream",
     "text": [
      "/Users/komangwikananda/miniconda3/envs/imageclassification/lib/python3.13/site-packages/PIL/Image.py:1047: UserWarning: Palette images with Transparency expressed in bytes should be converted to RGBA images\n",
      "  warnings.warn(\n",
      "/Users/komangwikananda/miniconda3/envs/imageclassification/lib/python3.13/site-packages/PIL/Image.py:1047: UserWarning: Palette images with Transparency expressed in bytes should be converted to RGBA images\n",
      "  warnings.warn(\n",
      "Training Epochs:  70%|███████   | 14/20 [1:11:32<30:33, 305.67s/it]"
     ]
    },
    {
     "name": "stdout",
     "output_type": "stream",
     "text": [
      "Epoch [14/20] | Train Loss: 0.4797 | Val Loss: 0.4478 | Train Accuracy: 0.7723 | Val Accuracy: 0.7824\n"
     ]
    },
    {
     "name": "stderr",
     "output_type": "stream",
     "text": [
      "/Users/komangwikananda/miniconda3/envs/imageclassification/lib/python3.13/site-packages/PIL/Image.py:1047: UserWarning: Palette images with Transparency expressed in bytes should be converted to RGBA images\n",
      "  warnings.warn(\n",
      "/Users/komangwikananda/miniconda3/envs/imageclassification/lib/python3.13/site-packages/PIL/Image.py:1047: UserWarning: Palette images with Transparency expressed in bytes should be converted to RGBA images\n",
      "  warnings.warn(\n"
     ]
    },
    {
     "name": "stdout",
     "output_type": "stream",
     "text": [
      "Epoch [15/20] | Train Loss: 0.4722 | Val Loss: 0.4543 | Train Accuracy: 0.7729 | Val Accuracy: 0.7802\n"
     ]
    },
    {
     "name": "stderr",
     "output_type": "stream",
     "text": [
      "Training Epochs:  75%|███████▌  | 15/20 [1:17:00<26:02, 312.51s/it]/Users/komangwikananda/miniconda3/envs/imageclassification/lib/python3.13/site-packages/PIL/Image.py:1047: UserWarning: Palette images with Transparency expressed in bytes should be converted to RGBA images\n",
      "  warnings.warn(\n",
      "/Users/komangwikananda/miniconda3/envs/imageclassification/lib/python3.13/site-packages/PIL/Image.py:1047: UserWarning: Palette images with Transparency expressed in bytes should be converted to RGBA images\n",
      "  warnings.warn(\n",
      "Training Epochs:  80%|████████  | 16/20 [1:22:34<21:16, 319.04s/it]"
     ]
    },
    {
     "name": "stdout",
     "output_type": "stream",
     "text": [
      "Epoch [16/20] | Train Loss: 0.4739 | Val Loss: 0.4451 | Train Accuracy: 0.7770 | Val Accuracy: 0.7863\n"
     ]
    },
    {
     "name": "stderr",
     "output_type": "stream",
     "text": [
      "/Users/komangwikananda/miniconda3/envs/imageclassification/lib/python3.13/site-packages/PIL/Image.py:1047: UserWarning: Palette images with Transparency expressed in bytes should be converted to RGBA images\n",
      "  warnings.warn(\n",
      "/Users/komangwikananda/miniconda3/envs/imageclassification/lib/python3.13/site-packages/PIL/Image.py:1047: UserWarning: Palette images with Transparency expressed in bytes should be converted to RGBA images\n",
      "  warnings.warn(\n",
      "Training Epochs:  85%|████████▌ | 17/20 [1:27:41<15:45, 315.27s/it]"
     ]
    },
    {
     "name": "stdout",
     "output_type": "stream",
     "text": [
      "Epoch [17/20] | Train Loss: 0.4649 | Val Loss: 0.4419 | Train Accuracy: 0.7788 | Val Accuracy: 0.7908\n"
     ]
    },
    {
     "name": "stderr",
     "output_type": "stream",
     "text": [
      "/Users/komangwikananda/miniconda3/envs/imageclassification/lib/python3.13/site-packages/PIL/Image.py:1047: UserWarning: Palette images with Transparency expressed in bytes should be converted to RGBA images\n",
      "  warnings.warn(\n",
      "/Users/komangwikananda/miniconda3/envs/imageclassification/lib/python3.13/site-packages/PIL/Image.py:1047: UserWarning: Palette images with Transparency expressed in bytes should be converted to RGBA images\n",
      "  warnings.warn(\n",
      "Training Epochs:  90%|█████████ | 18/20 [1:32:48<10:25, 312.91s/it]"
     ]
    },
    {
     "name": "stdout",
     "output_type": "stream",
     "text": [
      "Epoch [18/20] | Train Loss: 0.4623 | Val Loss: 0.4306 | Train Accuracy: 0.7842 | Val Accuracy: 0.7952\n"
     ]
    },
    {
     "name": "stderr",
     "output_type": "stream",
     "text": [
      "/Users/komangwikananda/miniconda3/envs/imageclassification/lib/python3.13/site-packages/PIL/Image.py:1047: UserWarning: Palette images with Transparency expressed in bytes should be converted to RGBA images\n",
      "  warnings.warn(\n",
      "/Users/komangwikananda/miniconda3/envs/imageclassification/lib/python3.13/site-packages/PIL/Image.py:1047: UserWarning: Palette images with Transparency expressed in bytes should be converted to RGBA images\n",
      "  warnings.warn(\n",
      "Training Epochs:  95%|█████████▌| 19/20 [1:37:53<05:10, 310.42s/it]"
     ]
    },
    {
     "name": "stdout",
     "output_type": "stream",
     "text": [
      "Epoch [19/20] | Train Loss: 0.4590 | Val Loss: 0.4317 | Train Accuracy: 0.7788 | Val Accuracy: 0.7958\n"
     ]
    },
    {
     "name": "stderr",
     "output_type": "stream",
     "text": [
      "/Users/komangwikananda/miniconda3/envs/imageclassification/lib/python3.13/site-packages/PIL/Image.py:1047: UserWarning: Palette images with Transparency expressed in bytes should be converted to RGBA images\n",
      "  warnings.warn(\n",
      "/Users/komangwikananda/miniconda3/envs/imageclassification/lib/python3.13/site-packages/PIL/Image.py:1047: UserWarning: Palette images with Transparency expressed in bytes should be converted to RGBA images\n",
      "  warnings.warn(\n",
      "Training Epochs: 100%|██████████| 20/20 [1:43:00<00:00, 309.01s/it]"
     ]
    },
    {
     "name": "stdout",
     "output_type": "stream",
     "text": [
      "Epoch [20/20] | Train Loss: 0.4593 | Val Loss: 0.4318 | Train Accuracy: 0.7823 | Val Accuracy: 0.7913\n"
     ]
    },
    {
     "name": "stderr",
     "output_type": "stream",
     "text": [
      "\n"
     ]
    },
    {
     "data": {
      "image/png": "[encoded data removed]",
      "text/plain": [
       "<Figure size 1200x500 with 2 Axes>"
      ]
     },
     "metadata": {},
     "output_type": "display_data"
    }
   ],
   "source": [
    "model, curves = train(dm)"
   ]
  },
  {
   "cell_type": "code",
   "execution_count": 7,
   "id": "2bb7bb06",
   "metadata": {},
   "outputs": [
    {
     "name": "stdout",
     "output_type": "stream",
     "text": [
      "input shape:  (64, 3, 224, 224)\n"
     ]
    },
    {
     "name": "stderr",
     "output_type": "stream",
     "text": [
      "/Users/komangwikananda/miniconda3/envs/imageclassification/lib/python3.13/site-packages/PIL/Image.py:1047: UserWarning: Palette images with Transparency expressed in bytes should be converted to RGBA images\n",
      "  warnings.warn(\n"
     ]
    },
    {
     "name": "stdout",
     "output_type": "stream",
     "text": [
      "\n",
      "------------------------------------- Calculate Flops Results -------------------------------------\n",
      "Notations:\n",
      "number of parameters (Params), number of multiply-accumulate operations(MACs),\n",
      "number of floating-point operations (FLOPs), floating-point operations per second (FLOPS),\n",
      "fwd FLOPs (model forward propagation FLOPs), bwd FLOPs (model backward propagation FLOPs),\n",
      "default model backpropagation takes 2.00 times as much computation as forward propagation.\n",
      "\n",
      "Total Training Params:                                                  114.18 K\n",
      "fwd MACs:                                                               38.5204 GMACs\n",
      "fwd FLOPs:                                                              77.8282 GFLOPS\n",
      "fwd+bwd MACs:                                                           115.561 GMACs\n",
      "fwd+bwd FLOPs:                                                          233.485 GFLOPS\n",
      "\n",
      "-------------------------------- Detailed Calculated FLOPs Results --------------------------------\n",
      "Each module caculated is listed after its name in the following order: \n",
      "params, percentage of total params, MACs, percentage of total MACs, FLOPS, percentage of total FLOPs\n",
      "\n",
      "Note: 1. A module can have torch.nn.module or torch.nn.functional to compute logits (e.g. CrossEntropyLoss). \n",
      " They are not counted as submodules in calflops and not to be printed out. However they make up the difference between a parent's MACs and the sum of its submodules'.\n",
      "2. Number of floating-point operations is a theoretical estimation, thus FLOPS computed using that could be larger than the maximum system throughput.\n",
      "\n",
      "TimmClassifier(\n",
      "  114.18 K = 100% Params, 38.52 GMACs = 100% MACs, 77.83 GFLOPS = 100% FLOPs\n",
      "  (backbone): SwiftFormer(\n",
      "    0 = 0% Params, 38.51 GMACs = 99.9811% MACs, 77.81 GFLOPS = 99.9804% FLOPs\n",
      "    (stem): Sequential(\n",
      "      0 = 0% Params, 2.6 GMACs = 6.7526% MACs, 5.32 GFLOPS = 6.8328% FLOPs\n",
      "      (0): Conv2d(0 = 0% Params, 520.22 MMACs = 1.3505% MACs, 1.06 GFLOPS = 1.3616% FLOPs, 3, 24, kernel_size=(3, 3), stride=(2, 2), padding=(1, 1))\n",
      "      (1): BatchNorm2d(0 = 0% Params, 0 MACs = 0% MACs, 38.54 MFLOPS = 0.0495% FLOPs, 24, eps=1e-05, momentum=0.1, affine=True, track_running_stats=True)\n",
      "      (2): ReLU(0 = 0% Params, 0 MACs = 0% MACs, 19.27 MFLOPS = 0.0248% FLOPs)\n",
      "      (3): Conv2d(0 = 0% Params, 2.08 GMACs = 5.4021% MACs, 4.17 GFLOPS = 5.3598% FLOPs, 24, 48, kernel_size=(3, 3), stride=(2, 2), padding=(1, 1))\n",
      "      (4): BatchNorm2d(0 = 0% Params, 0 MACs = 0% MACs, 19.27 MFLOPS = 0.0248% FLOPs, 48, eps=1e-05, momentum=0.1, affine=True, track_running_stats=True)\n",
      "      (5): ReLU(0 = 0% Params, 0 MACs = 0% MACs, 9.63 MFLOPS = 0.0124% FLOPs)\n",
      "    )\n",
      "    (stages): Sequential(\n",
      "      0 = 0% Params, 35.91 GMACs = 93.2285% MACs, 72.49 GFLOPS = 93.1458% FLOPs\n",
      "      (0): Stage(\n",
      "        0 = 0% Params, 14.13 GMACs = 36.689% MACs, 28.66 GFLOPS = 36.8254% FLOPs\n",
      "        (downsample): Identity(0 = 0% Params, 0 MACs = 0% MACs, 0 FLOPS = 0% FLOPs)\n",
      "        (blocks): Sequential(\n",
      "          0 = 0% Params, 14.13 GMACs = 36.689% MACs, 28.66 GFLOPS = 36.8254% FLOPs\n",
      "          (0): ConvEncoder(\n",
      "            0 = 0% Params, 3.79 GMACs = 9.8288% MACs, 7.69 GFLOPS = 9.8779% FLOPs\n",
      "            (dwconv): Conv2d(0 = 0% Params, 86.7 MMACs = 0.2251% MACs, 183.04 MFLOPS = 0.2352% FLOPs, 48, 48, kernel_size=(3, 3), stride=(1, 1), padding=(1, 1), groups=48)\n",
      "            (norm): BatchNorm2d(0 = 0% Params, 0 MACs = 0% MACs, 19.27 MFLOPS = 0.0248% FLOPs, 48, eps=1e-05, momentum=0.1, affine=True, track_running_stats=True)\n",
      "            (pwconv1): Conv2d(0 = 0% Params, 1.85 GMACs = 4.8018% MACs, 3.74 GFLOPS = 4.8028% FLOPs, 48, 192, kernel_size=(1, 1), stride=(1, 1))\n",
      "            (act): GELU(0 = 0% Params, 0 MACs = 0% MACs, 38.54 MFLOPS = 0.0495% FLOPs, approximate='none')\n",
      "            (pwconv2): Conv2d(0 = 0% Params, 1.85 GMACs = 4.8018% MACs, 3.71 GFLOPS = 4.7656% FLOPs, 192, 48, kernel_size=(1, 1), stride=(1, 1))\n",
      "            (drop_path): Identity(0 = 0% Params, 0 MACs = 0% MACs, 0 FLOPS = 0% FLOPs)\n",
      "            (layer_scale): LayerScale2d(0 = 0% Params, 0 MACs = 0% MACs, 0 FLOPS = 0% FLOPs)\n",
      "          )\n",
      "          (1): ConvEncoder(\n",
      "            0 = 0% Params, 3.79 GMACs = 9.8288% MACs, 7.69 GFLOPS = 9.8779% FLOPs\n",
      "            (dwconv): Conv2d(0 = 0% Params, 86.7 MMACs = 0.2251% MACs, 183.04 MFLOPS = 0.2352% FLOPs, 48, 48, kernel_size=(3, 3), stride=(1, 1), padding=(1, 1), groups=48)\n",
      "            (norm): BatchNorm2d(0 = 0% Params, 0 MACs = 0% MACs, 19.27 MFLOPS = 0.0248% FLOPs, 48, eps=1e-05, momentum=0.1, affine=True, track_running_stats=True)\n",
      "            (pwconv1): Conv2d(0 = 0% Params, 1.85 GMACs = 4.8018% MACs, 3.74 GFLOPS = 4.8028% FLOPs, 48, 192, kernel_size=(1, 1), stride=(1, 1))\n",
      "            (act): GELU(0 = 0% Params, 0 MACs = 0% MACs, 38.54 MFLOPS = 0.0495% FLOPs, approximate='none')\n",
      "            (pwconv2): Conv2d(0 = 0% Params, 1.85 GMACs = 4.8018% MACs, 3.71 GFLOPS = 4.7656% FLOPs, 192, 48, kernel_size=(1, 1), stride=(1, 1))\n",
      "            (drop_path): DropPath(0 = 0% Params, 0 MACs = 0% MACs, 0 FLOPS = 0% FLOPs, drop_prob=0.007)\n",
      "            (layer_scale): LayerScale2d(0 = 0% Params, 0 MACs = 0% MACs, 0 FLOPS = 0% FLOPs)\n",
      "          )\n",
      "          (2): Block(\n",
      "            0 = 0% Params, 6.56 GMACs = 17.0315% MACs, 13.28 GFLOPS = 17.0696% FLOPs\n",
      "            (local_representation): LocalRepresentation(\n",
      "              0 = 0% Params, 1.01 GMACs = 2.626% MACs, 2.08 GFLOPS = 2.6737% FLOPs\n",
      "              (dwconv): Conv2d(0 = 0% Params, 86.7 MMACs = 0.2251% MACs, 183.04 MFLOPS = 0.2352% FLOPs, 48, 48, kernel_size=(3, 3), stride=(1, 1), padding=(1, 1), groups=48)\n",
      "              (norm): BatchNorm2d(0 = 0% Params, 0 MACs = 0% MACs, 19.27 MFLOPS = 0.0248% FLOPs, 48, eps=1e-05, momentum=0.1, affine=True, track_running_stats=True)\n",
      "              (pwconv1): Conv2d(0 = 0% Params, 462.42 MMACs = 1.2005% MACs, 934.48 MFLOPS = 1.2007% FLOPs, 48, 48, kernel_size=(1, 1), stride=(1, 1))\n",
      "              (act): GELU(0 = 0% Params, 0 MACs = 0% MACs, 9.63 MFLOPS = 0.0124% FLOPs, approximate='none')\n",
      "              (pwconv2): Conv2d(0 = 0% Params, 462.42 MMACs = 1.2005% MACs, 934.48 MFLOPS = 1.2007% FLOPs, 48, 48, kernel_size=(1, 1), stride=(1, 1))\n",
      "              (drop_path): Identity(0 = 0% Params, 0 MACs = 0% MACs, 0 FLOPS = 0% FLOPs)\n",
      "              (layer_scale): LayerScale2d(0 = 0% Params, 0 MACs = 0% MACs, 0 FLOPS = 0% FLOPs)\n",
      "            )\n",
      "            (attn): EfficientAdditiveAttention(\n",
      "              0 = 0% Params, 1.85 GMACs = 4.8018% MACs, 3.7 GFLOPS = 4.7533% FLOPs\n",
      "              (to_query): Linear(0 = 0% Params, 462.42 MMACs = 1.2005% MACs, 924.84 MFLOPS = 1.1883% FLOPs, in_features=48, out_features=48, bias=True)\n",
      "              (to_key): Linear(0 = 0% Params, 462.42 MMACs = 1.2005% MACs, 924.84 MFLOPS = 1.1883% FLOPs, in_features=48, out_features=48, bias=True)\n",
      "              (proj): Linear(0 = 0% Params, 462.42 MMACs = 1.2005% MACs, 924.84 MFLOPS = 1.1883% FLOPs, in_features=48, out_features=48, bias=True)\n",
      "              (final): Linear(0 = 0% Params, 462.42 MMACs = 1.2005% MACs, 924.84 MFLOPS = 1.1883% FLOPs, in_features=48, out_features=48, bias=True)\n",
      "            )\n",
      "            (linear): Mlp(\n",
      "              0 = 0% Params, 3.7 GMACs = 9.6037% MACs, 7.5 GFLOPS = 9.6427% FLOPs\n",
      "              (norm1): BatchNorm2d(0 = 0% Params, 0 MACs = 0% MACs, 19.27 MFLOPS = 0.0248% FLOPs, 48, eps=1e-05, momentum=0.1, affine=True, track_running_stats=True)\n",
      "              (fc1): Conv2d(0 = 0% Params, 1.85 GMACs = 4.8018% MACs, 3.74 GFLOPS = 4.8028% FLOPs, 48, 192, kernel_size=(1, 1), stride=(1, 1))\n",
      "              (act): GELU(0 = 0% Params, 0 MACs = 0% MACs, 38.54 MFLOPS = 0.0495% FLOPs, approximate='none')\n",
      "              (fc2): Conv2d(0 = 0% Params, 1.85 GMACs = 4.8018% MACs, 3.71 GFLOPS = 4.7656% FLOPs, 192, 48, kernel_size=(1, 1), stride=(1, 1))\n",
      "              (drop): Dropout(0 = 0% Params, 0 MACs = 0% MACs, 0 FLOPS = 0% FLOPs, p=0.2, inplace=False)\n",
      "            )\n",
      "            (drop_path): DropPath(0 = 0% Params, 0 MACs = 0% MACs, 0 FLOPS = 0% FLOPs, drop_prob=0.013)\n",
      "            (layer_scale_1): LayerScale2d(0 = 0% Params, 0 MACs = 0% MACs, 0 FLOPS = 0% FLOPs)\n",
      "            (layer_scale_2): LayerScale2d(0 = 0% Params, 0 MACs = 0% MACs, 0 FLOPS = 0% FLOPs)\n",
      "          )\n",
      "        )\n",
      "      )\n",
      "      (1): Stage(\n",
      "        0 = 0% Params, 6.01 GMACs = 15.6028% MACs, 12.14 GFLOPS = 15.6039% FLOPs\n",
      "        (downsample): Embedding(\n",
      "          0 = 0% Params, 1.21 GMACs = 3.1512% MACs, 2.44 GFLOPS = 3.1302% FLOPs\n",
      "          (proj): Conv2d(0 = 0% Params, 1.21 GMACs = 3.1512% MACs, 2.43 GFLOPS = 3.1229% FLOPs, 48, 56, kernel_size=(3, 3), stride=(2, 2), padding=(1, 1))\n",
      "          (norm): BatchNorm2d(0 = 0% Params, 0 MACs = 0% MACs, 5.62 MFLOPS = 0.0072% FLOPs, 56, eps=1e-05, momentum=0.1, affine=True, track_running_stats=True)\n",
      "        )\n",
      "        (blocks): Sequential(\n",
      "          0 = 0% Params, 4.8 GMACs = 12.4516% MACs, 9.71 GFLOPS = 12.4737% FLOPs\n",
      "          (0): ConvEncoder(\n",
      "            0 = 0% Params, 1.28 GMACs = 3.3336% MACs, 2.6 GFLOPS = 3.3432% FLOPs\n",
      "            (dwconv): Conv2d(0 = 0% Params, 25.29 MMACs = 0.0657% MACs, 53.39 MFLOPS = 0.0686% FLOPs, 56, 56, kernel_size=(3, 3), stride=(1, 1), padding=(1, 1), groups=56)\n",
      "            (norm): BatchNorm2d(0 = 0% Params, 0 MACs = 0% MACs, 5.62 MFLOPS = 0.0072% FLOPs, 56, eps=1e-05, momentum=0.1, affine=True, track_running_stats=True)\n",
      "            (pwconv1): Conv2d(0 = 0% Params, 629.41 MMACs = 1.634% MACs, 1.27 GFLOPS = 1.6319% FLOPs, 56, 224, kernel_size=(1, 1), stride=(1, 1))\n",
      "            (act): GELU(0 = 0% Params, 0 MACs = 0% MACs, 11.24 MFLOPS = 0.0144% FLOPs, approximate='none')\n",
      "            (pwconv2): Conv2d(0 = 0% Params, 629.41 MMACs = 1.634% MACs, 1.26 GFLOPS = 1.621% FLOPs, 224, 56, kernel_size=(1, 1), stride=(1, 1))\n",
      "            (drop_path): DropPath(0 = 0% Params, 0 MACs = 0% MACs, 0 FLOPS = 0% FLOPs, drop_prob=0.020)\n",
      "            (layer_scale): LayerScale2d(0 = 0% Params, 0 MACs = 0% MACs, 0 FLOPS = 0% FLOPs)\n",
      "          )\n",
      "          (1): ConvEncoder(\n",
      "            0 = 0% Params, 1.28 GMACs = 3.3336% MACs, 2.6 GFLOPS = 3.3432% FLOPs\n",
      "            (dwconv): Conv2d(0 = 0% Params, 25.29 MMACs = 0.0657% MACs, 53.39 MFLOPS = 0.0686% FLOPs, 56, 56, kernel_size=(3, 3), stride=(1, 1), padding=(1, 1), groups=56)\n",
      "            (norm): BatchNorm2d(0 = 0% Params, 0 MACs = 0% MACs, 5.62 MFLOPS = 0.0072% FLOPs, 56, eps=1e-05, momentum=0.1, affine=True, track_running_stats=True)\n",
      "            (pwconv1): Conv2d(0 = 0% Params, 629.41 MMACs = 1.634% MACs, 1.27 GFLOPS = 1.6319% FLOPs, 56, 224, kernel_size=(1, 1), stride=(1, 1))\n",
      "            (act): GELU(0 = 0% Params, 0 MACs = 0% MACs, 11.24 MFLOPS = 0.0144% FLOPs, approximate='none')\n",
      "            (pwconv2): Conv2d(0 = 0% Params, 629.41 MMACs = 1.634% MACs, 1.26 GFLOPS = 1.621% FLOPs, 224, 56, kernel_size=(1, 1), stride=(1, 1))\n",
      "            (drop_path): DropPath(0 = 0% Params, 0 MACs = 0% MACs, 0 FLOPS = 0% FLOPs, drop_prob=0.027)\n",
      "            (layer_scale): LayerScale2d(0 = 0% Params, 0 MACs = 0% MACs, 0 FLOPS = 0% FLOPs)\n",
      "          )\n",
      "          (2): Block(\n",
      "            0 = 0% Params, 2.23 GMACs = 5.7845% MACs, 4.5 GFLOPS = 5.7874% FLOPs\n",
      "            (local_representation): LocalRepresentation(\n",
      "              0 = 0% Params, 339.99 MMACs = 0.8826% MACs, 696.84 MFLOPS = 0.8954% FLOPs\n",
      "              (dwconv): Conv2d(0 = 0% Params, 25.29 MMACs = 0.0657% MACs, 53.39 MFLOPS = 0.0686% FLOPs, 56, 56, kernel_size=(3, 3), stride=(1, 1), padding=(1, 1), groups=56)\n",
      "              (norm): BatchNorm2d(0 = 0% Params, 0 MACs = 0% MACs, 5.62 MFLOPS = 0.0072% FLOPs, 56, eps=1e-05, momentum=0.1, affine=True, track_running_stats=True)\n",
      "              (pwconv1): Conv2d(0 = 0% Params, 157.35 MMACs = 0.4085% MACs, 317.51 MFLOPS = 0.408% FLOPs, 56, 56, kernel_size=(1, 1), stride=(1, 1))\n",
      "              (act): GELU(0 = 0% Params, 0 MACs = 0% MACs, 2.81 MFLOPS = 0.0036% FLOPs, approximate='none')\n",
      "              (pwconv2): Conv2d(0 = 0% Params, 157.35 MMACs = 0.4085% MACs, 317.51 MFLOPS = 0.408% FLOPs, 56, 56, kernel_size=(1, 1), stride=(1, 1))\n",
      "              (drop_path): Identity(0 = 0% Params, 0 MACs = 0% MACs, 0 FLOPS = 0% FLOPs)\n",
      "              (layer_scale): LayerScale2d(0 = 0% Params, 0 MACs = 0% MACs, 0 FLOPS = 0% FLOPs)\n",
      "            )\n",
      "            (attn): EfficientAdditiveAttention(\n",
      "              0 = 0% Params, 629.41 MMACs = 1.634% MACs, 1.26 GFLOPS = 1.6174% FLOPs\n",
      "              (to_query): Linear(0 = 0% Params, 157.35 MMACs = 0.4085% MACs, 314.7 MFLOPS = 0.4044% FLOPs, in_features=56, out_features=56, bias=True)\n",
      "              (to_key): Linear(0 = 0% Params, 157.35 MMACs = 0.4085% MACs, 314.7 MFLOPS = 0.4044% FLOPs, in_features=56, out_features=56, bias=True)\n",
      "              (proj): Linear(0 = 0% Params, 157.35 MMACs = 0.4085% MACs, 314.7 MFLOPS = 0.4044% FLOPs, in_features=56, out_features=56, bias=True)\n",
      "              (final): Linear(0 = 0% Params, 157.35 MMACs = 0.4085% MACs, 314.7 MFLOPS = 0.4044% FLOPs, in_features=56, out_features=56, bias=True)\n",
      "            )\n",
      "            (linear): Mlp(\n",
      "              0 = 0% Params, 1.26 GMACs = 3.2679% MACs, 2.55 GFLOPS = 3.2746% FLOPs\n",
      "              (norm1): BatchNorm2d(0 = 0% Params, 0 MACs = 0% MACs, 5.62 MFLOPS = 0.0072% FLOPs, 56, eps=1e-05, momentum=0.1, affine=True, track_running_stats=True)\n",
      "              (fc1): Conv2d(0 = 0% Params, 629.41 MMACs = 1.634% MACs, 1.27 GFLOPS = 1.6319% FLOPs, 56, 224, kernel_size=(1, 1), stride=(1, 1))\n",
      "              (act): GELU(0 = 0% Params, 0 MACs = 0% MACs, 11.24 MFLOPS = 0.0144% FLOPs, approximate='none')\n",
      "              (fc2): Conv2d(0 = 0% Params, 629.41 MMACs = 1.634% MACs, 1.26 GFLOPS = 1.621% FLOPs, 224, 56, kernel_size=(1, 1), stride=(1, 1))\n",
      "              (drop): Dropout(0 = 0% Params, 0 MACs = 0% MACs, 0 FLOPS = 0% FLOPs, p=0.2, inplace=False)\n",
      "            )\n",
      "            (drop_path): DropPath(0 = 0% Params, 0 MACs = 0% MACs, 0 FLOPS = 0% FLOPs, drop_prob=0.033)\n",
      "            (layer_scale_1): LayerScale2d(0 = 0% Params, 0 MACs = 0% MACs, 0 FLOPS = 0% FLOPs)\n",
      "            (layer_scale_2): LayerScale2d(0 = 0% Params, 0 MACs = 0% MACs, 0 FLOPS = 0% FLOPs)\n",
      "          )\n",
      "        )\n",
      "      )\n",
      "      (2): Stage(\n",
      "        0 = 0% Params, 9.28 GMACs = 24.0936% MACs, 18.67 GFLOPS = 23.9943% FLOPs\n",
      "        (downsample): Embedding(\n",
      "          0 = 0% Params, 708.08 MMACs = 1.8382% MACs, 1.42 GFLOPS = 1.825% FLOPs\n",
      "          (proj): Conv2d(0 = 0% Params, 708.08 MMACs = 1.8382% MACs, 1.42 GFLOPS = 1.8214% FLOPs, 56, 112, kernel_size=(3, 3), stride=(2, 2), padding=(1, 1))\n",
      "          (norm): BatchNorm2d(0 = 0% Params, 0 MACs = 0% MACs, 2.81 MFLOPS = 0.0036% FLOPs, 112, eps=1e-05, momentum=0.1, affine=True, track_running_stats=True)\n",
      "        )\n",
      "        (blocks): Sequential(\n",
      "          0 = 0% Params, 8.57 GMACs = 22.2554% MACs, 17.25 GFLOPS = 22.1692% FLOPs\n",
      "          (0): ConvEncoder(\n",
      "            0 = 0% Params, 1.27 GMACs = 3.3007% MACs, 2.56 GFLOPS = 3.289% FLOPs\n",
      "            (dwconv): Conv2d(0 = 0% Params, 12.64 MMACs = 0.0328% MACs, 26.69 MFLOPS = 0.0343% FLOPs, 112, 112, kernel_size=(3, 3), stride=(1, 1), padding=(1, 1), groups=112)\n",
      "            (norm): BatchNorm2d(0 = 0% Params, 0 MACs = 0% MACs, 2.81 MFLOPS = 0.0036% FLOPs, 112, eps=1e-05, momentum=0.1, affine=True, track_running_stats=True)\n",
      "            (pwconv1): Conv2d(0 = 0% Params, 629.41 MMACs = 1.634% MACs, 1.26 GFLOPS = 1.6246% FLOPs, 112, 448, kernel_size=(1, 1), stride=(1, 1))\n",
      "            (act): GELU(0 = 0% Params, 0 MACs = 0% MACs, 5.62 MFLOPS = 0.0072% FLOPs, approximate='none')\n",
      "            (pwconv2): Conv2d(0 = 0% Params, 629.41 MMACs = 1.634% MACs, 1.26 GFLOPS = 1.6192% FLOPs, 448, 112, kernel_size=(1, 1), stride=(1, 1))\n",
      "            (drop_path): DropPath(0 = 0% Params, 0 MACs = 0% MACs, 0 FLOPS = 0% FLOPs, drop_prob=0.040)\n",
      "            (layer_scale): LayerScale2d(0 = 0% Params, 0 MACs = 0% MACs, 0 FLOPS = 0% FLOPs)\n",
      "          )\n",
      "          (1): ConvEncoder(\n",
      "            0 = 0% Params, 1.27 GMACs = 3.3007% MACs, 2.56 GFLOPS = 3.289% FLOPs\n",
      "            (dwconv): Conv2d(0 = 0% Params, 12.64 MMACs = 0.0328% MACs, 26.69 MFLOPS = 0.0343% FLOPs, 112, 112, kernel_size=(3, 3), stride=(1, 1), padding=(1, 1), groups=112)\n",
      "            (norm): BatchNorm2d(0 = 0% Params, 0 MACs = 0% MACs, 2.81 MFLOPS = 0.0036% FLOPs, 112, eps=1e-05, momentum=0.1, affine=True, track_running_stats=True)\n",
      "            (pwconv1): Conv2d(0 = 0% Params, 629.41 MMACs = 1.634% MACs, 1.26 GFLOPS = 1.6246% FLOPs, 112, 448, kernel_size=(1, 1), stride=(1, 1))\n",
      "            (act): GELU(0 = 0% Params, 0 MACs = 0% MACs, 5.62 MFLOPS = 0.0072% FLOPs, approximate='none')\n",
      "            (pwconv2): Conv2d(0 = 0% Params, 629.41 MMACs = 1.634% MACs, 1.26 GFLOPS = 1.6192% FLOPs, 448, 112, kernel_size=(1, 1), stride=(1, 1))\n",
      "            (drop_path): DropPath(0 = 0% Params, 0 MACs = 0% MACs, 0 FLOPS = 0% FLOPs, drop_prob=0.047)\n",
      "            (layer_scale): LayerScale2d(0 = 0% Params, 0 MACs = 0% MACs, 0 FLOPS = 0% FLOPs)\n",
      "          )\n",
      "          (2): ConvEncoder(\n",
      "            0 = 0% Params, 1.27 GMACs = 3.3007% MACs, 2.56 GFLOPS = 3.289% FLOPs\n",
      "            (dwconv): Conv2d(0 = 0% Params, 12.64 MMACs = 0.0328% MACs, 26.69 MFLOPS = 0.0343% FLOPs, 112, 112, kernel_size=(3, 3), stride=(1, 1), padding=(1, 1), groups=112)\n",
      "            (norm): BatchNorm2d(0 = 0% Params, 0 MACs = 0% MACs, 2.81 MFLOPS = 0.0036% FLOPs, 112, eps=1e-05, momentum=0.1, affine=True, track_running_stats=True)\n",
      "            (pwconv1): Conv2d(0 = 0% Params, 629.41 MMACs = 1.634% MACs, 1.26 GFLOPS = 1.6246% FLOPs, 112, 448, kernel_size=(1, 1), stride=(1, 1))\n",
      "            (act): GELU(0 = 0% Params, 0 MACs = 0% MACs, 5.62 MFLOPS = 0.0072% FLOPs, approximate='none')\n",
      "            (pwconv2): Conv2d(0 = 0% Params, 629.41 MMACs = 1.634% MACs, 1.26 GFLOPS = 1.6192% FLOPs, 448, 112, kernel_size=(1, 1), stride=(1, 1))\n",
      "            (drop_path): DropPath(0 = 0% Params, 0 MACs = 0% MACs, 0 FLOPS = 0% FLOPs, drop_prob=0.053)\n",
      "            (layer_scale): LayerScale2d(0 = 0% Params, 0 MACs = 0% MACs, 0 FLOPS = 0% FLOPs)\n",
      "          )\n",
      "          (3): ConvEncoder(\n",
      "            0 = 0% Params, 1.27 GMACs = 3.3007% MACs, 2.56 GFLOPS = 3.289% FLOPs\n",
      "            (dwconv): Conv2d(0 = 0% Params, 12.64 MMACs = 0.0328% MACs, 26.69 MFLOPS = 0.0343% FLOPs, 112, 112, kernel_size=(3, 3), stride=(1, 1), padding=(1, 1), groups=112)\n",
      "            (norm): BatchNorm2d(0 = 0% Params, 0 MACs = 0% MACs, 2.81 MFLOPS = 0.0036% FLOPs, 112, eps=1e-05, momentum=0.1, affine=True, track_running_stats=True)\n",
      "            (pwconv1): Conv2d(0 = 0% Params, 629.41 MMACs = 1.634% MACs, 1.26 GFLOPS = 1.6246% FLOPs, 112, 448, kernel_size=(1, 1), stride=(1, 1))\n",
      "            (act): GELU(0 = 0% Params, 0 MACs = 0% MACs, 5.62 MFLOPS = 0.0072% FLOPs, approximate='none')\n",
      "            (pwconv2): Conv2d(0 = 0% Params, 629.41 MMACs = 1.634% MACs, 1.26 GFLOPS = 1.6192% FLOPs, 448, 112, kernel_size=(1, 1), stride=(1, 1))\n",
      "            (drop_path): DropPath(0 = 0% Params, 0 MACs = 0% MACs, 0 FLOPS = 0% FLOPs, drop_prob=0.060)\n",
      "            (layer_scale): LayerScale2d(0 = 0% Params, 0 MACs = 0% MACs, 0 FLOPS = 0% FLOPs)\n",
      "          )\n",
      "          (4): ConvEncoder(\n",
      "            0 = 0% Params, 1.27 GMACs = 3.3007% MACs, 2.56 GFLOPS = 3.289% FLOPs\n",
      "            (dwconv): Conv2d(0 = 0% Params, 12.64 MMACs = 0.0328% MACs, 26.69 MFLOPS = 0.0343% FLOPs, 112, 112, kernel_size=(3, 3), stride=(1, 1), padding=(1, 1), groups=112)\n",
      "            (norm): BatchNorm2d(0 = 0% Params, 0 MACs = 0% MACs, 2.81 MFLOPS = 0.0036% FLOPs, 112, eps=1e-05, momentum=0.1, affine=True, track_running_stats=True)\n",
      "            (pwconv1): Conv2d(0 = 0% Params, 629.41 MMACs = 1.634% MACs, 1.26 GFLOPS = 1.6246% FLOPs, 112, 448, kernel_size=(1, 1), stride=(1, 1))\n",
      "            (act): GELU(0 = 0% Params, 0 MACs = 0% MACs, 5.62 MFLOPS = 0.0072% FLOPs, approximate='none')\n",
      "            (pwconv2): Conv2d(0 = 0% Params, 629.41 MMACs = 1.634% MACs, 1.26 GFLOPS = 1.6192% FLOPs, 448, 112, kernel_size=(1, 1), stride=(1, 1))\n",
      "            (drop_path): DropPath(0 = 0% Params, 0 MACs = 0% MACs, 0 FLOPS = 0% FLOPs, drop_prob=0.067)\n",
      "            (layer_scale): LayerScale2d(0 = 0% Params, 0 MACs = 0% MACs, 0 FLOPS = 0% FLOPs)\n",
      "          )\n",
      "          (5): Block(\n",
      "            0 = 0% Params, 2.22 GMACs = 5.7517% MACs, 4.46 GFLOPS = 5.7242% FLOPs\n",
      "            (local_representation): LocalRepresentation(\n",
      "              0 = 0% Params, 327.35 MMACs = 0.8498% MACs, 663.13 MFLOPS = 0.852% FLOPs\n",
      "              (dwconv): Conv2d(0 = 0% Params, 12.64 MMACs = 0.0328% MACs, 26.69 MFLOPS = 0.0343% FLOPs, 112, 112, kernel_size=(3, 3), stride=(1, 1), padding=(1, 1), groups=112)\n",
      "              (norm): BatchNorm2d(0 = 0% Params, 0 MACs = 0% MACs, 2.81 MFLOPS = 0.0036% FLOPs, 112, eps=1e-05, momentum=0.1, affine=True, track_running_stats=True)\n",
      "              (pwconv1): Conv2d(0 = 0% Params, 157.35 MMACs = 0.4085% MACs, 316.11 MFLOPS = 0.4062% FLOPs, 112, 112, kernel_size=(1, 1), stride=(1, 1))\n",
      "              (act): GELU(0 = 0% Params, 0 MACs = 0% MACs, 1.4 MFLOPS = 0.0018% FLOPs, approximate='none')\n",
      "              (pwconv2): Conv2d(0 = 0% Params, 157.35 MMACs = 0.4085% MACs, 316.11 MFLOPS = 0.4062% FLOPs, 112, 112, kernel_size=(1, 1), stride=(1, 1))\n",
      "              (drop_path): Identity(0 = 0% Params, 0 MACs = 0% MACs, 0 FLOPS = 0% FLOPs)\n",
      "              (layer_scale): LayerScale2d(0 = 0% Params, 0 MACs = 0% MACs, 0 FLOPS = 0% FLOPs)\n",
      "            )\n",
      "            (attn): EfficientAdditiveAttention(\n",
      "              0 = 0% Params, 629.41 MMACs = 1.634% MACs, 1.26 GFLOPS = 1.6174% FLOPs\n",
      "              (to_query): Linear(0 = 0% Params, 157.35 MMACs = 0.4085% MACs, 314.7 MFLOPS = 0.4044% FLOPs, in_features=112, out_features=112, bias=True)\n",
      "              (to_key): Linear(0 = 0% Params, 157.35 MMACs = 0.4085% MACs, 314.7 MFLOPS = 0.4044% FLOPs, in_features=112, out_features=112, bias=True)\n",
      "              (proj): Linear(0 = 0% Params, 157.35 MMACs = 0.4085% MACs, 314.7 MFLOPS = 0.4044% FLOPs, in_features=112, out_features=112, bias=True)\n",
      "              (final): Linear(0 = 0% Params, 157.35 MMACs = 0.4085% MACs, 314.7 MFLOPS = 0.4044% FLOPs, in_features=112, out_features=112, bias=True)\n",
      "            )\n",
      "            (linear): Mlp(\n",
      "              0 = 0% Params, 1.26 GMACs = 3.2679% MACs, 2.53 GFLOPS = 3.2547% FLOPs\n",
      "              (norm1): BatchNorm2d(0 = 0% Params, 0 MACs = 0% MACs, 2.81 MFLOPS = 0.0036% FLOPs, 112, eps=1e-05, momentum=0.1, affine=True, track_running_stats=True)\n",
      "              (fc1): Conv2d(0 = 0% Params, 629.41 MMACs = 1.634% MACs, 1.26 GFLOPS = 1.6246% FLOPs, 112, 448, kernel_size=(1, 1), stride=(1, 1))\n",
      "              (act): GELU(0 = 0% Params, 0 MACs = 0% MACs, 5.62 MFLOPS = 0.0072% FLOPs, approximate='none')\n",
      "              (fc2): Conv2d(0 = 0% Params, 629.41 MMACs = 1.634% MACs, 1.26 GFLOPS = 1.6192% FLOPs, 448, 112, kernel_size=(1, 1), stride=(1, 1))\n",
      "              (drop): Dropout(0 = 0% Params, 0 MACs = 0% MACs, 0 FLOPS = 0% FLOPs, p=0.2, inplace=False)\n",
      "            )\n",
      "            (drop_path): DropPath(0 = 0% Params, 0 MACs = 0% MACs, 0 FLOPS = 0% FLOPs, drop_prob=0.073)\n",
      "            (layer_scale_1): LayerScale2d(0 = 0% Params, 0 MACs = 0% MACs, 0 FLOPS = 0% FLOPs)\n",
      "            (layer_scale_2): LayerScale2d(0 = 0% Params, 0 MACs = 0% MACs, 0 FLOPS = 0% FLOPs)\n",
      "          )\n",
      "        )\n",
      "      )\n",
      "      (3): Stage(\n",
      "        0 = 0% Params, 6.49 GMACs = 16.843% MACs, 13.01 GFLOPS = 16.7223% FLOPs\n",
      "        (downsample): Embedding(\n",
      "          0 = 0% Params, 695.44 MMACs = 1.8054% MACs, 1.39 GFLOPS = 1.7898% FLOPs\n",
      "          (proj): Conv2d(0 = 0% Params, 695.44 MMACs = 1.8054% MACs, 1.39 GFLOPS = 1.788% FLOPs, 112, 220, kernel_size=(3, 3), stride=(2, 2), padding=(1, 1))\n",
      "          (norm): BatchNorm2d(0 = 0% Params, 0 MACs = 0% MACs, 1.38 MFLOPS = 0.0018% FLOPs, 220, eps=1e-05, momentum=0.1, affine=True, track_running_stats=True)\n",
      "        )\n",
      "        (blocks): Sequential(\n",
      "          0 = 0% Params, 5.79 GMACs = 15.0377% MACs, 11.62 GFLOPS = 14.9325% FLOPs\n",
      "          (0): ConvEncoder(\n",
      "            0 = 0% Params, 1.22 GMACs = 3.1684% MACs, 2.45 GFLOPS = 3.147% FLOPs\n",
      "            (dwconv): Conv2d(0 = 0% Params, 6.21 MMACs = 0.0161% MACs, 13.11 MFLOPS = 0.0168% FLOPs, 220, 220, kernel_size=(3, 3), stride=(1, 1), padding=(1, 1), groups=220)\n",
      "            (norm): BatchNorm2d(0 = 0% Params, 0 MACs = 0% MACs, 1.38 MFLOPS = 0.0018% FLOPs, 220, eps=1e-05, momentum=0.1, affine=True, track_running_stats=True)\n",
      "            (pwconv1): Conv2d(0 = 0% Params, 607.13 MMACs = 1.5761% MACs, 1.22 GFLOPS = 1.5637% FLOPs, 220, 880, kernel_size=(1, 1), stride=(1, 1))\n",
      "            (act): GELU(0 = 0% Params, 0 MACs = 0% MACs, 2.76 MFLOPS = 0.0035% FLOPs, approximate='none')\n",
      "            (pwconv2): Conv2d(0 = 0% Params, 607.13 MMACs = 1.5761% MACs, 1.21 GFLOPS = 1.5611% FLOPs, 880, 220, kernel_size=(1, 1), stride=(1, 1))\n",
      "            (drop_path): DropPath(0 = 0% Params, 0 MACs = 0% MACs, 0 FLOPS = 0% FLOPs, drop_prob=0.080)\n",
      "            (layer_scale): LayerScale2d(0 = 0% Params, 0 MACs = 0% MACs, 0 FLOPS = 0% FLOPs)\n",
      "          )\n",
      "          (1): ConvEncoder(\n",
      "            0 = 0% Params, 1.22 GMACs = 3.1684% MACs, 2.45 GFLOPS = 3.147% FLOPs\n",
      "            (dwconv): Conv2d(0 = 0% Params, 6.21 MMACs = 0.0161% MACs, 13.11 MFLOPS = 0.0168% FLOPs, 220, 220, kernel_size=(3, 3), stride=(1, 1), padding=(1, 1), groups=220)\n",
      "            (norm): BatchNorm2d(0 = 0% Params, 0 MACs = 0% MACs, 1.38 MFLOPS = 0.0018% FLOPs, 220, eps=1e-05, momentum=0.1, affine=True, track_running_stats=True)\n",
      "            (pwconv1): Conv2d(0 = 0% Params, 607.13 MMACs = 1.5761% MACs, 1.22 GFLOPS = 1.5637% FLOPs, 220, 880, kernel_size=(1, 1), stride=(1, 1))\n",
      "            (act): GELU(0 = 0% Params, 0 MACs = 0% MACs, 2.76 MFLOPS = 0.0035% FLOPs, approximate='none')\n",
      "            (pwconv2): Conv2d(0 = 0% Params, 607.13 MMACs = 1.5761% MACs, 1.21 GFLOPS = 1.5611% FLOPs, 880, 220, kernel_size=(1, 1), stride=(1, 1))\n",
      "            (drop_path): DropPath(0 = 0% Params, 0 MACs = 0% MACs, 0 FLOPS = 0% FLOPs, drop_prob=0.087)\n",
      "            (layer_scale): LayerScale2d(0 = 0% Params, 0 MACs = 0% MACs, 0 FLOPS = 0% FLOPs)\n",
      "          )\n",
      "          (2): ConvEncoder(\n",
      "            0 = 0% Params, 1.22 GMACs = 3.1684% MACs, 2.45 GFLOPS = 3.147% FLOPs\n",
      "            (dwconv): Conv2d(0 = 0% Params, 6.21 MMACs = 0.0161% MACs, 13.11 MFLOPS = 0.0168% FLOPs, 220, 220, kernel_size=(3, 3), stride=(1, 1), padding=(1, 1), groups=220)\n",
      "            (norm): BatchNorm2d(0 = 0% Params, 0 MACs = 0% MACs, 1.38 MFLOPS = 0.0018% FLOPs, 220, eps=1e-05, momentum=0.1, affine=True, track_running_stats=True)\n",
      "            (pwconv1): Conv2d(0 = 0% Params, 607.13 MMACs = 1.5761% MACs, 1.22 GFLOPS = 1.5637% FLOPs, 220, 880, kernel_size=(1, 1), stride=(1, 1))\n",
      "            (act): GELU(0 = 0% Params, 0 MACs = 0% MACs, 2.76 MFLOPS = 0.0035% FLOPs, approximate='none')\n",
      "            (pwconv2): Conv2d(0 = 0% Params, 607.13 MMACs = 1.5761% MACs, 1.21 GFLOPS = 1.5611% FLOPs, 880, 220, kernel_size=(1, 1), stride=(1, 1))\n",
      "            (drop_path): DropPath(0 = 0% Params, 0 MACs = 0% MACs, 0 FLOPS = 0% FLOPs, drop_prob=0.093)\n",
      "            (layer_scale): LayerScale2d(0 = 0% Params, 0 MACs = 0% MACs, 0 FLOPS = 0% FLOPs)\n",
      "          )\n",
      "          (3): Block(\n",
      "            0 = 0% Params, 2.13 GMACs = 5.5326% MACs, 4.27 GFLOPS = 5.4917% FLOPs\n",
      "            (local_representation): LocalRepresentation(\n",
      "              0 = 0% Params, 309.77 MMACs = 0.8042% MACs, 623.69 MFLOPS = 0.8014% FLOPs\n",
      "              (dwconv): Conv2d(0 = 0% Params, 6.21 MMACs = 0.0161% MACs, 13.11 MFLOPS = 0.0168% FLOPs, 220, 220, kernel_size=(3, 3), stride=(1, 1), padding=(1, 1), groups=220)\n",
      "              (norm): BatchNorm2d(0 = 0% Params, 0 MACs = 0% MACs, 1.38 MFLOPS = 0.0018% FLOPs, 220, eps=1e-05, momentum=0.1, affine=True, track_running_stats=True)\n",
      "              (pwconv1): Conv2d(0 = 0% Params, 151.78 MMACs = 0.394% MACs, 304.25 MFLOPS = 0.3909% FLOPs, 220, 220, kernel_size=(1, 1), stride=(1, 1))\n",
      "              (act): GELU(0 = 0% Params, 0 MACs = 0% MACs, 689.92 KFLOPS = 0.0009% FLOPs, approximate='none')\n",
      "              (pwconv2): Conv2d(0 = 0% Params, 151.78 MMACs = 0.394% MACs, 304.25 MFLOPS = 0.3909% FLOPs, 220, 220, kernel_size=(1, 1), stride=(1, 1))\n",
      "              (drop_path): Identity(0 = 0% Params, 0 MACs = 0% MACs, 0 FLOPS = 0% FLOPs)\n",
      "              (layer_scale): LayerScale2d(0 = 0% Params, 0 MACs = 0% MACs, 0 FLOPS = 0% FLOPs)\n",
      "            )\n",
      "            (attn): EfficientAdditiveAttention(\n",
      "              0 = 0% Params, 607.13 MMACs = 1.5761% MACs, 1.21 GFLOPS = 1.5602% FLOPs\n",
      "              (to_query): Linear(0 = 0% Params, 151.78 MMACs = 0.394% MACs, 303.56 MFLOPS = 0.39% FLOPs, in_features=220, out_features=220, bias=True)\n",
      "              (to_key): Linear(0 = 0% Params, 151.78 MMACs = 0.394% MACs, 303.56 MFLOPS = 0.39% FLOPs, in_features=220, out_features=220, bias=True)\n",
      "              (proj): Linear(0 = 0% Params, 151.78 MMACs = 0.394% MACs, 303.56 MFLOPS = 0.39% FLOPs, in_features=220, out_features=220, bias=True)\n",
      "              (final): Linear(0 = 0% Params, 151.78 MMACs = 0.394% MACs, 303.56 MFLOPS = 0.39% FLOPs, in_features=220, out_features=220, bias=True)\n",
      "            )\n",
      "            (linear): Mlp(\n",
      "              0 = 0% Params, 1.21 GMACs = 3.1522% MACs, 2.44 GFLOPS = 3.1301% FLOPs\n",
      "              (norm1): BatchNorm2d(0 = 0% Params, 0 MACs = 0% MACs, 1.38 MFLOPS = 0.0018% FLOPs, 220, eps=1e-05, momentum=0.1, affine=True, track_running_stats=True)\n",
      "              (fc1): Conv2d(0 = 0% Params, 607.13 MMACs = 1.5761% MACs, 1.22 GFLOPS = 1.5637% FLOPs, 220, 880, kernel_size=(1, 1), stride=(1, 1))\n",
      "              (act): GELU(0 = 0% Params, 0 MACs = 0% MACs, 2.76 MFLOPS = 0.0035% FLOPs, approximate='none')\n",
      "              (fc2): Conv2d(0 = 0% Params, 607.13 MMACs = 1.5761% MACs, 1.21 GFLOPS = 1.5611% FLOPs, 880, 220, kernel_size=(1, 1), stride=(1, 1))\n",
      "              (drop): Dropout(0 = 0% Params, 0 MACs = 0% MACs, 0 FLOPS = 0% FLOPs, p=0.2, inplace=False)\n",
      "            )\n",
      "            (drop_path): DropPath(0 = 0% Params, 0 MACs = 0% MACs, 0 FLOPS = 0% FLOPs, drop_prob=0.100)\n",
      "            (layer_scale_1): LayerScale2d(0 = 0% Params, 0 MACs = 0% MACs, 0 FLOPS = 0% FLOPs)\n",
      "            (layer_scale_2): LayerScale2d(0 = 0% Params, 0 MACs = 0% MACs, 0 FLOPS = 0% FLOPs)\n",
      "          )\n",
      "        )\n",
      "      )\n",
      "    )\n",
      "    (norm): BatchNorm2d(0 = 0% Params, 0 MACs = 0% MACs, 1.38 MFLOPS = 0.0018% FLOPs, 220, eps=1e-05, momentum=0.1, affine=True, track_running_stats=True)\n",
      "    (head_drop): Dropout(0 = 0% Params, 0 MACs = 0% MACs, 0 FLOPS = 0% FLOPs, p=0.2, inplace=False)\n",
      "    (head): Identity(0 = 0% Params, 0 MACs = 0% MACs, 0 FLOPS = 0% FLOPs)\n",
      "    (head_dist): Identity(0 = 0% Params, 0 MACs = 0% MACs, 0 FLOPS = 0% FLOPs)\n",
      "  )\n",
      "  (head): MLP(\n",
      "    114.18 K = 100% Params, 7.27 MMACs = 0.0189% MACs, 15.27 MFLOPS = 0.0196% FLOPs\n",
      "    (model): Sequential(\n",
      "      114.18 K = 100% Params, 7.27 MMACs = 0.0189% MACs, 15.27 MFLOPS = 0.0196% FLOPs\n",
      "      (0): AdaptiveAvgPool2d(0 = 0% Params, 0 MACs = 0% MACs, 689.92 KFLOPS = 0.0009% FLOPs, output_size=(1, 1))\n",
      "      (1): Flatten(0 = 0% Params, 0 MACs = 0% MACs, 0 FLOPS = 0% FLOPs, start_dim=1, end_dim=-1)\n",
      "      (2): Linear(113.15 K = 99.1014% Params, 7.21 MMACs = 0.0187% MACs, 14.42 MFLOPS = 0.0185% FLOPs, in_features=220, out_features=512, bias=True)\n",
      "      (3): ReLU(0 = 0% Params, 0 MACs = 0% MACs, 32.77 KFLOPS = 0% FLOPs)\n",
      "      (4): Dropout(0 = 0% Params, 0 MACs = 0% MACs, 0 FLOPS = 0% FLOPs, p=0.3, inplace=False)\n",
      "      (5): Linear(1.03 K = 0.8986% Params, 65.54 KMACs = 0.0002% MACs, 131.07 KFLOPS = 0.0002% FLOPs, in_features=512, out_features=2, bias=True)\n",
      "    )\n",
      "  )\n",
      ")\n",
      "---------------------------------------------------------------------------------------------------\n",
      "\n",
      "METRICS =================================\n",
      "Accuracy: 90.62%\n",
      "Precision: 1.0000\n",
      "Recall: 0.9062\n",
      "F1-Score: 0.9508\n",
      "\n",
      "EFFICIENCY ==============================\n",
      "FLOPs: 77.8282 GFLOPS\n",
      "MACs: 38.5204 GMACs\n",
      "Params: 114.178 K\n"
     ]
    }
   ],
   "source": [
    "CLASS_NAMES = ['fake', 'real']\n",
    "metrics, cm = test(dm)\n",
    "\n",
    "# plt.figure(figsize=(6, 6))\n",
    "# sns.heatmap(cm, annot=True, fmt='d', cmap='Blues', xticklabels=CLASS_NAMES, yticklabels=CLASS_NAMES)\n",
    "# plt.title('Confusion Matrix')\n",
    "# plt.ylabel('True Label')\n",
    "# plt.xlabel('Predicted Label')\n",
    "# plt.show()"
   ]
  },
  {
   "cell_type": "code",
   "execution_count": 11,
   "id": "7dd58411",
   "metadata": {},
   "outputs": [
    {
     "name": "stdout",
     "output_type": "stream",
     "text": [
      "Detected real image\n",
      "Confidence score: 90.8593%\n"
     ]
    }
   ],
   "source": [
    "cat, confidence, _ = predict_single_img('test_imgs/test_real2.jpg')\n",
    "print(f\"Detected {CLASS_NAMES[cat]} image\")\n",
    "print(f\"Confidence score: {100 * confidence:.4f}%\")"
   ]
  },
  {
   "cell_type": "code",
   "execution_count": null,
   "id": "1466042c",
   "metadata": {},
   "outputs": [],
   "source": []
  }
 ],
 "metadata": {
  "kernelspec": {
   "display_name": "imageclassification",
   "language": "python",
   "name": "python3"
  },
  "language_info": {
   "codemirror_mode": {
    "name": "ipython",
    "version": 3
   },
   "file_extension": ".py",
   "mimetype": "text/x-python",
   "name": "python",
   "nbconvert_exporter": "python",
   "pygments_lexer": "ipython3",
   "version": "3.13.9"
  }
 },
 "nbformat": 4,
 "nbformat_minor": 5
}
